{
  "cells": [
    {
      "cell_type": "markdown",
      "metadata": {
        "id": "view-in-github",
        "colab_type": "text"
      },
      "source": [
        "<a href=\"https://colab.research.google.com/github/thejj-theju/Nutrition_Paradox/blob/main/Nutrition_colab.ipynb\" target=\"_parent\"><img src=\"https://colab.research.google.com/assets/colab-badge.svg\" alt=\"Open In Colab\"/></a>"
      ]
    },
    {
      "cell_type": "markdown",
      "metadata": {
        "id": "AGGM-8eT74TP"
      },
      "source": []
    },
    {
      "cell_type": "code",
      "execution_count": null,
      "metadata": {
        "id": "TuGlSmsw70LF"
      },
      "outputs": [],
      "source": [
        "!pip install requests"
      ]
    },
    {
      "cell_type": "code",
      "execution_count": null,
      "metadata": {
        "id": "nJh6RbKs7_5V"
      },
      "outputs": [],
      "source": [
        "import requests"
      ]
    },
    {
      "cell_type": "code",
      "execution_count": null,
      "metadata": {
        "collapsed": true,
        "id": "qw7jZhQmAE1g"
      },
      "outputs": [],
      "source": [
        "url1='https://ghoapi.azureedge.net/api/NCD_BMI_30C'\n",
        "response1=requests.get(url1)\n",
        "print(response1)\n",
        "data1=response1.json()\n",
        "data1"
      ]
    },
    {
      "cell_type": "code",
      "execution_count": null,
      "metadata": {
        "id": "P3jlg6t9AEyL"
      },
      "outputs": [],
      "source": [
        "url2='https://ghoapi.azureedge.net/api/NCD_BMI_PLUS2C'\n",
        "response2=requests.get(url2)\n",
        "print(response2)\n",
        "data2=response2.json()\n",
        "print(data2)"
      ]
    },
    {
      "cell_type": "code",
      "execution_count": null,
      "metadata": {
        "id": "iBvMkRNPCxGV"
      },
      "outputs": [],
      "source": [
        "url3='https://ghoapi.azureedge.net/api/NCD_BMI_18C'\n",
        "response3=requests.get(url3)\n",
        "print(response3)\n",
        "data3=response3.json()"
      ]
    },
    {
      "cell_type": "code",
      "execution_count": null,
      "metadata": {
        "id": "-qU4YJ3vCxD8"
      },
      "outputs": [],
      "source": [
        "url4='https://ghoapi.azureedge.net/api/NCD_BMI_MINUS2C'\n",
        "response4=requests.get(url4)\n",
        "print(response4)\n",
        "data4=response4.json()"
      ]
    },
    {
      "cell_type": "code",
      "execution_count": null,
      "metadata": {
        "collapsed": true,
        "id": "q6MdPaVZCw1h"
      },
      "outputs": [],
      "source": [
        "data1.values()"
      ]
    },
    {
      "cell_type": "code",
      "execution_count": null,
      "metadata": {
        "id": "1dPu1xPPCwyu"
      },
      "outputs": [],
      "source": [
        "import pandas as pd"
      ]
    },
    {
      "cell_type": "code",
      "execution_count": null,
      "metadata": {
        "id": "Q6ilwrY8Cwgr"
      },
      "outputs": [],
      "source": [
        "df1=pd.DataFrame(data1['value'])\n",
        "df1"
      ]
    },
    {
      "cell_type": "code",
      "execution_count": null,
      "metadata": {
        "id": "K7a_1tYcHSqZ"
      },
      "outputs": [],
      "source": [
        "df1.head()"
      ]
    },
    {
      "cell_type": "code",
      "execution_count": null,
      "metadata": {
        "id": "tPFM-omEHSLt",
        "collapsed": true
      },
      "outputs": [],
      "source": [
        "df1.isnull().sum()"
      ]
    },
    {
      "cell_type": "code",
      "execution_count": null,
      "metadata": {
        "id": "eZ_zy00zHSaw"
      },
      "outputs": [],
      "source": [
        "df1.describe()"
      ]
    },
    {
      "cell_type": "code",
      "execution_count": null,
      "metadata": {
        "id": "O6aiFd8aFeIN"
      },
      "outputs": [],
      "source": [
        "df2=pd.DataFrame(data2['value'])\n",
        "df2"
      ]
    },
    {
      "cell_type": "code",
      "execution_count": null,
      "metadata": {
        "id": "VMoNyRW9FeFg"
      },
      "outputs": [],
      "source": [
        "df3=pd.DataFrame(data3['value'])\n",
        "df3"
      ]
    },
    {
      "cell_type": "code",
      "execution_count": null,
      "metadata": {
        "id": "2XScfdJ-FeCw"
      },
      "outputs": [],
      "source": [
        "df4=pd.DataFrame(data4['value'])\n",
        "df4"
      ]
    },
    {
      "cell_type": "code",
      "execution_count": null,
      "metadata": {
        "id": "_2oade20FeAQ"
      },
      "outputs": [],
      "source": [
        "df1['age_group']='adult'\n",
        "df2['age_group']='children'\n",
        "df3['age_group']='adult'\n",
        "df4['age_group']='children'"
      ]
    },
    {
      "cell_type": "code",
      "execution_count": null,
      "metadata": {
        "id": "An9jJF_hFd9w"
      },
      "outputs": [],
      "source": [
        "df_obesity=pd.concat([df1,df2],axis=0, ignore_index=True)\n",
        "print(\"Combined Obesity Records:\", df_obesity.shape)\n",
        "df_malnutrition=pd.concat([df3,df4], axis=0, ignore_index=True)\n",
        "print(\"Combined Malnutrition Records:\", df_malnutrition.shape)"
      ]
    },
    {
      "cell_type": "code",
      "execution_count": null,
      "metadata": {
        "id": "I4ErwmG3Fd7Y"
      },
      "outputs": [],
      "source": [
        "df_obesity=df_obesity[df_obesity['TimeDim'].between(2012,2022)]\n",
        "df_malnutrition=df_malnutrition[df_malnutrition['TimeDim'].between(2012,2022)]"
      ]
    },
    {
      "cell_type": "code",
      "execution_count": null,
      "metadata": {
        "id": "I6P1fyZCFd5H"
      },
      "outputs": [],
      "source": [
        "df_obesity.to_csv('obesity.csv', index=False)\n",
        "df_malnutrition.to_csv('malnutrition.csv', index=False)"
      ]
    },
    {
      "cell_type": "code",
      "execution_count": null,
      "metadata": {
        "id": "7WFHGFLPFd2u"
      },
      "outputs": [],
      "source": []
    },
    {
      "cell_type": "code",
      "execution_count": null,
      "metadata": {
        "id": "PdXdAByDFdzg"
      },
      "outputs": [],
      "source": []
    },
    {
      "cell_type": "code",
      "execution_count": null,
      "metadata": {
        "id": "0SAYK3KPFdw3"
      },
      "outputs": [],
      "source": []
    },
    {
      "cell_type": "code",
      "execution_count": null,
      "metadata": {
        "id": "EqVyFeknFduG"
      },
      "outputs": [],
      "source": []
    },
    {
      "cell_type": "code",
      "execution_count": null,
      "metadata": {
        "id": "b3B_YSKSFdrs"
      },
      "outputs": [],
      "source": []
    },
    {
      "cell_type": "code",
      "execution_count": null,
      "metadata": {
        "id": "FaA7xCaEFdpB"
      },
      "outputs": [],
      "source": []
    },
    {
      "cell_type": "code",
      "execution_count": null,
      "metadata": {
        "id": "IYbHy9qRFdmj"
      },
      "outputs": [],
      "source": []
    },
    {
      "cell_type": "code",
      "execution_count": null,
      "metadata": {
        "id": "rHSXlK8ZFdjj"
      },
      "outputs": [],
      "source": []
    },
    {
      "cell_type": "code",
      "execution_count": null,
      "metadata": {
        "id": "OsEtrRAVFdf7"
      },
      "outputs": [],
      "source": []
    },
    {
      "cell_type": "code",
      "execution_count": null,
      "metadata": {
        "id": "EC5BpjgN8AMt"
      },
      "outputs": [],
      "source": [
        "df_obesity.to_csv('Obesity',index=False)"
      ]
    }
  ],
  "metadata": {
    "colab": {
      "provenance": [],
      "authorship_tag": "ABX9TyMpoO6fKVLuOma+DQVu61OW",
      "include_colab_link": true
    },
    "kernelspec": {
      "display_name": "Python 3",
      "name": "python3"
    },
    "language_info": {
      "name": "python"
    }
  },
  "nbformat": 4,
  "nbformat_minor": 0
}